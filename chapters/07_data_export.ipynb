{
  "cells": [
    {
      "cell_type": "markdown",
      "metadata": {
        "id": "BpPM4b1_n2_m"
      },
      "source": [
        "# Exporting Earth Engine Data\n",
        "\n",
        "```{contents}\n",
        ":local:\n",
        ":depth: 2\n",
        "```\n",
        "\n",
        "## Introduction"
      ],
      "id": "BpPM4b1_n2_m"
    },
    {
      "cell_type": "markdown",
      "metadata": {
        "id": "e1OePi0yn2_q"
      },
      "source": [
        "## Technical requirements\n",
        "\n",
        "```bash\n",
        "conda install -n base mamba -c conda-forge\n",
        "mamba create -n gee -c conda-forge geemap pygis\n",
        "```\n",
        "\n",
        "```bash\n",
        "conda activate gee\n",
        "jupyter lab\n",
        "```\n",
        "\n",
        "[![Open in Colab](https://colab.research.google.com/assets/colab-badge.svg)](https://colab.research.google.com/github/giswqs/geebook/blob/master/chapters/07_data_export.ipynb)"
      ],
      "id": "e1OePi0yn2_q"
    },
    {
      "cell_type": "code",
      "execution_count": null,
      "metadata": {
        "id": "HjqUTKwBn2_r"
      },
      "outputs": [],
      "source": [
        "# %pip install pygis"
      ],
      "id": "HjqUTKwBn2_r"
    },
    {
      "cell_type": "code",
      "execution_count": null,
      "metadata": {
        "id": "zjLkfWYGn2_t"
      },
      "outputs": [],
      "source": [
        "import ee\n",
        "import geemap"
      ],
      "id": "zjLkfWYGn2_t"
    },
    {
      "cell_type": "code",
      "execution_count": null,
      "metadata": {
        "id": "uuefhgOmn2_u"
      },
      "outputs": [],
      "source": [
        "geemap.ee_initialize()"
      ],
      "id": "uuefhgOmn2_u"
    },
    {
      "cell_type": "markdown",
      "metadata": {
        "id": "tilNhzP6n2_u"
      },
      "source": [
        "## Exporting images"
      ],
      "id": "tilNhzP6n2_u"
    },
    {
      "cell_type": "code",
      "execution_count": null,
      "metadata": {
        "id": "sPFM3O-In2_x"
      },
      "outputs": [],
      "source": [
        "Map = geemap.Map()\n",
        "\n",
        "image = ee.Image('LANDSAT/LC08/C02/T1_TOA/LC08_044034_20140318').select(\n",
        "    ['B5', 'B4', 'B3']\n",
        ")\n",
        "\n",
        "vis_params = {'min': 0, 'max': 0.5, 'gamma': [0.95, 1.1, 1]}\n",
        "\n",
        "Map.centerObject(image)\n",
        "Map.addLayer(image, vis_params, 'Landsat')\n",
        "Map"
      ],
      "id": "sPFM3O-In2_x"
    },
    {
      "cell_type": "code",
      "execution_count": null,
      "metadata": {
        "id": "M3KWMTMen2_y"
      },
      "outputs": [],
      "source": [
        "region = ee.Geometry.BBox(-122.5955, 37.5339, -122.0982, 37.8252)\n",
        "fc = ee.FeatureCollection(region)\n",
        "style = {'color': 'ffff00ff', 'fillColor': '00000000'}\n",
        "Map.addLayer(fc.style(**style), {}, 'ROI')\n",
        "Map"
      ],
      "id": "M3KWMTMen2_y"
    },
    {
      "cell_type": "markdown",
      "metadata": {
        "id": "1SnmwPJ_n2_z"
      },
      "source": [
        "### To local drive"
      ],
      "id": "1SnmwPJ_n2_z"
    },
    {
      "cell_type": "code",
      "execution_count": null,
      "metadata": {
        "id": "EMrI7RK7n2_0"
      },
      "outputs": [],
      "source": [
        "geemap.ee_export_image(image, filename=\"landsat.tif\", scale=30, region=region)"
      ],
      "id": "EMrI7RK7n2_0"
    },
    {
      "cell_type": "code",
      "execution_count": null,
      "metadata": {
        "id": "B3UEMssPn2_1"
      },
      "outputs": [],
      "source": [
        "projection = image.select(0).projection().getInfo()\n",
        "projection"
      ],
      "id": "B3UEMssPn2_1"
    },
    {
      "cell_type": "code",
      "execution_count": null,
      "metadata": {
        "id": "TQfQScajn2_2"
      },
      "outputs": [],
      "source": [
        "crs = projection['crs']\n",
        "crs_transform = projection['transform']"
      ],
      "id": "TQfQScajn2_2"
    },
    {
      "cell_type": "code",
      "execution_count": null,
      "metadata": {
        "id": "LPbZyTg9n2_2"
      },
      "outputs": [],
      "source": [
        "geemap.ee_export_image(\n",
        "    image,\n",
        "    filename=\"landsat_crs.tif\",\n",
        "    crs=crs,\n",
        "    crs_transform=crs_transform,\n",
        "    region=region,\n",
        ")"
      ],
      "id": "LPbZyTg9n2_2"
    },
    {
      "cell_type": "code",
      "execution_count": null,
      "metadata": {
        "id": "hedArAqIn2_3"
      },
      "outputs": [],
      "source": [
        "geemap.download_ee_image(image, filename='landsat_full.tif', scale=60)"
      ],
      "id": "hedArAqIn2_3"
    },
    {
      "cell_type": "code",
      "execution_count": null,
      "metadata": {
        "id": "IPMq6cZyn2_4"
      },
      "outputs": [],
      "source": [
        "fishnet = geemap.fishnet(image.geometry(), rows=4, cols=4, delta=0.5)\n",
        "style = {'color': 'ffff00ff', 'fillColor': '00000000'}\n",
        "Map.addLayer(fishnet.style(**style), {}, 'Fishnet')\n",
        "Map"
      ],
      "id": "IPMq6cZyn2_4"
    },
    {
      "cell_type": "code",
      "execution_count": null,
      "metadata": {
        "id": "VaRwwgkXn2_4"
      },
      "outputs": [],
      "source": [
        "out_dir = os.path.expanduser('~/Downloads')\n",
        "geemap.download_ee_image_tiles(\n",
        "    image, fishnet, out_dir, prefix=\"landsat_\", crs=\"EPSG:3857\", scale=30\n",
        ")"
      ],
      "id": "VaRwwgkXn2_4"
    },
    {
      "cell_type": "markdown",
      "metadata": {
        "id": "K894V7zfn2_4"
      },
      "source": [
        "### To Google Drive"
      ],
      "id": "K894V7zfn2_4"
    },
    {
      "cell_type": "code",
      "execution_count": null,
      "metadata": {
        "id": "YFmtAkAzn2_5"
      },
      "outputs": [],
      "source": [
        "geemap.ee_export_image_to_drive(\n",
        "    image, description='landsat', folder='export', region=region, scale=30\n",
        ")"
      ],
      "id": "YFmtAkAzn2_5"
    },
    {
      "cell_type": "markdown",
      "metadata": {
        "id": "yxnyksqcn2_5"
      },
      "source": [
        "### To Asset"
      ],
      "id": "yxnyksqcn2_5"
    },
    {
      "cell_type": "code",
      "execution_count": null,
      "metadata": {
        "id": "ICIyug2Ln2_6"
      },
      "outputs": [],
      "source": [
        "assetId = 'landsat_sfo'\n",
        "geemap.ee_export_image_to_asset(\n",
        "    image, description='landsat', assetId=assetId, region=region, scale=30\n",
        ")"
      ],
      "id": "ICIyug2Ln2_6"
    },
    {
      "cell_type": "markdown",
      "metadata": {
        "id": "LEZw9rbKn2_6"
      },
      "source": [
        "### To Cloud Storage"
      ],
      "id": "LEZw9rbKn2_6"
    },
    {
      "cell_type": "code",
      "execution_count": null,
      "metadata": {
        "id": "CJihzI75n2_7"
      },
      "outputs": [],
      "source": [
        "bucket = 'your-bucket'\n",
        "geemap.ee_export_image_to_cloud_storage(\n",
        "    image, description='landsat', bucket=None, region=region, scale=30\n",
        ")"
      ],
      "id": "CJihzI75n2_7"
    },
    {
      "cell_type": "markdown",
      "metadata": {
        "id": "ob8RdBAUn2_7"
      },
      "source": [
        "### To NumPy array"
      ],
      "id": "ob8RdBAUn2_7"
    },
    {
      "cell_type": "code",
      "execution_count": null,
      "metadata": {
        "id": "sOVq0Y7cn2_7"
      },
      "outputs": [],
      "source": [
        "region = ee.Geometry.BBox(-122.5003, 37.7233, -122.3410, 37.8026)\n",
        "rgb_img = geemap.ee_to_numpy(image, region=region)"
      ],
      "id": "sOVq0Y7cn2_7"
    },
    {
      "cell_type": "code",
      "execution_count": null,
      "metadata": {
        "id": "visbejLrn2_8"
      },
      "outputs": [],
      "source": [
        "print(rgb_img.shape)"
      ],
      "id": "visbejLrn2_8"
    },
    {
      "cell_type": "code",
      "execution_count": null,
      "metadata": {
        "id": "xVc776aen2_8"
      },
      "outputs": [],
      "source": [
        "import matplotlib.pyplot as plt\n",
        "\n",
        "rgb_img_test = (255 * ((rgb_img[:, :, 0:3]) + 0.2)).astype('uint8')\n",
        "plt.imshow(rgb_img_test)\n",
        "plt.show()"
      ],
      "id": "xVc776aen2_8"
    },
    {
      "cell_type": "markdown",
      "metadata": {
        "id": "E3nK47Prn2_8"
      },
      "source": [
        "## Exporting image collections"
      ],
      "id": "E3nK47Prn2_8"
    },
    {
      "cell_type": "code",
      "execution_count": null,
      "metadata": {
        "id": "8aAS_EqSn2_8"
      },
      "outputs": [],
      "source": [
        "point = ee.Geometry.Point(-99.2222, 46.7816)\n",
        "collection = (\n",
        "    ee.ImageCollection('USDA/NAIP/DOQQ')\n",
        "    .filterBounds(point)\n",
        "    .filterDate('2008-01-01', '2018-01-01')\n",
        "    .filter(ee.Filter.listContains(\"system:band_names\", \"N\"))\n",
        ")"
      ],
      "id": "8aAS_EqSn2_8"
    },
    {
      "cell_type": "code",
      "execution_count": null,
      "metadata": {
        "id": "jBrc5qWJn2_9"
      },
      "outputs": [],
      "source": [
        "collection.aggregate_array('system:index').getInfo()"
      ],
      "id": "jBrc5qWJn2_9"
    },
    {
      "cell_type": "markdown",
      "metadata": {
        "id": "B-Cj_CE1n2_9"
      },
      "source": [
        "### To local drive"
      ],
      "id": "B-Cj_CE1n2_9"
    },
    {
      "cell_type": "code",
      "execution_count": null,
      "metadata": {
        "id": "nqCwqGwjn2_9"
      },
      "outputs": [],
      "source": [
        "out_dir = os.path.expanduser('~/Downloads')\n",
        "geemap.ee_export_image_collection(collection, out_dir=out_dir, scale=10)"
      ],
      "id": "nqCwqGwjn2_9"
    },
    {
      "cell_type": "markdown",
      "metadata": {
        "id": "5u-YY_bmn2_9"
      },
      "source": [
        "### To Google Drive"
      ],
      "id": "5u-YY_bmn2_9"
    },
    {
      "cell_type": "code",
      "execution_count": null,
      "metadata": {
        "id": "HB7Xf53an2_9"
      },
      "outputs": [],
      "source": [
        "geemap.ee_export_image_collection_to_drive(collection, folder='export', scale=10)"
      ],
      "id": "HB7Xf53an2_9"
    },
    {
      "cell_type": "markdown",
      "metadata": {
        "id": "loh8zjZxn2_-"
      },
      "source": [
        "### To Assets"
      ],
      "id": "loh8zjZxn2_-"
    },
    {
      "cell_type": "code",
      "execution_count": null,
      "metadata": {
        "id": "qe0iUwI7n2_-"
      },
      "outputs": [],
      "source": [
        "geemap.ee_export_image_collection_to_asset(collection)"
      ],
      "id": "qe0iUwI7n2_-"
    },
    {
      "cell_type": "markdown",
      "metadata": {
        "id": "SEBlWx29n2_-"
      },
      "source": [
        "## Exporting videos"
      ],
      "id": "SEBlWx29n2_-"
    },
    {
      "cell_type": "code",
      "execution_count": null,
      "metadata": {
        "id": "6cybiTp4n2_-"
      },
      "outputs": [],
      "source": [
        "# Load a Landsat 5 image collection.\n",
        "collection = (\n",
        "    ee.ImageCollection('LANDSAT/LT05/C01/T1_TOA')\n",
        "    .filter(ee.Filter.eq('WRS_PATH', 44))\n",
        "    .filter(ee.Filter.eq('WRS_ROW', 34))\n",
        "    .filter(ee.Filter.lt('CLOUD_COVER', 30))\n",
        "    .filterDate('1991-01-01', '2011-12-30')\n",
        "    .select(['B4', 'B3', 'B2'])\n",
        "    .map(lambda img: img.multiply(512).uint8())\n",
        ")\n",
        "# Need to make the data 8-bit.\n",
        "\n",
        "region = ee.Geometry.Rectangle([-122.7286, 37.6325, -122.0241, 37.9592]);"
      ],
      "id": "6cybiTp4n2_-"
    },
    {
      "cell_type": "code",
      "execution_count": null,
      "metadata": {
        "id": "PKZozFADn2_-"
      },
      "outputs": [],
      "source": [
        "geemap.ee_export_video_to_dirve(\n",
        "    collection, folder='export', framesPerSecond=12, dimensions=720, region=region\n",
        ")"
      ],
      "id": "PKZozFADn2_-"
    },
    {
      "cell_type": "markdown",
      "metadata": {
        "id": "pXZ6PP9in2__"
      },
      "source": [
        "## Exporting image thumbnails"
      ],
      "id": "pXZ6PP9in2__"
    },
    {
      "cell_type": "code",
      "execution_count": null,
      "metadata": {
        "id": "Is-32guqn2__"
      },
      "outputs": [],
      "source": [
        "roi = ee.Geometry.Point([-122.44, 37.75])\n",
        "collection = (\n",
        "    ee.ImageCollection('LANDSAT/LC08/C02/T1_TOA')\n",
        "    .filterBounds(roi)\n",
        "    .sort(\"CLOUD_COVER\")\n",
        "    .limit(10)\n",
        ")\n",
        "\n",
        "image = collection.first()"
      ],
      "id": "Is-32guqn2__"
    },
    {
      "cell_type": "code",
      "execution_count": null,
      "metadata": {
        "id": "m1WKUO7Tn2__"
      },
      "outputs": [],
      "source": [
        "Map = geemap.Map()\n",
        "\n",
        "vis_params = {\n",
        "    'bands': ['B5', 'B4', 'B3'],\n",
        "    'min': 0,\n",
        "    'max': 0.3,\n",
        "    'gamma': [0.95, 1.1, 1],\n",
        "}\n",
        "\n",
        "Map.addLayer(image, vis_params, \"LANDSAT 8\")\n",
        "Map.setCenter(-122.44, 37.75, 8)\n",
        "Map"
      ],
      "id": "m1WKUO7Tn2__"
    },
    {
      "cell_type": "code",
      "execution_count": null,
      "metadata": {
        "id": "83TV6HSFn2__"
      },
      "outputs": [],
      "source": [
        "out_img = 'landsat.jpg'\n",
        "region = ee.Geometry.BBox(-122.5955, 37.5339, -122.0982, 37.8252)\n",
        "geemap.get_image_thumbnail(image, out_img, vis_params, dimensions=1000, region=region)"
      ],
      "id": "83TV6HSFn2__"
    },
    {
      "cell_type": "code",
      "execution_count": null,
      "metadata": {
        "id": "ZO-GQoPxn2__"
      },
      "outputs": [],
      "source": [
        "geemap.show_image(out_img)"
      ],
      "id": "ZO-GQoPxn2__"
    },
    {
      "cell_type": "code",
      "execution_count": null,
      "metadata": {
        "id": "R3lTwCzVn2__"
      },
      "outputs": [],
      "source": [
        "out_dir = os.path.expanduser(\"~/Downloads\")\n",
        "geemap.get_image_collection_thumbnails(\n",
        "    collection,\n",
        "    out_dir,\n",
        "    vis_params,\n",
        "    dimensions=1000,\n",
        "    region=region,\n",
        ")"
      ],
      "id": "R3lTwCzVn2__"
    },
    {
      "cell_type": "markdown",
      "metadata": {
        "id": "Eq3z_Jlcn2__"
      },
      "source": [
        "## Exporting feature collections"
      ],
      "id": "Eq3z_Jlcn2__"
    },
    {
      "cell_type": "code",
      "execution_count": null,
      "metadata": {
        "id": "quHUNmp2n3AA"
      },
      "outputs": [],
      "source": [
        "Map = geemap.Map()\n",
        "fc = ee.FeatureCollection('USDOS/LSIB_SIMPLE/2017').filter(\n",
        "    ee.Filter.eq('wld_rgn', 'Europe')\n",
        ")\n",
        "\n",
        "Map.addLayer(fc, {}, \"Europe\")\n",
        "Map.centerObject(fc, 3)\n",
        "Map"
      ],
      "id": "quHUNmp2n3AA"
    },
    {
      "cell_type": "markdown",
      "metadata": {
        "id": "8zJ0xX7un3AA"
      },
      "source": [
        "### To local drive"
      ],
      "id": "8zJ0xX7un3AA"
    },
    {
      "cell_type": "code",
      "execution_count": null,
      "metadata": {
        "id": "3mut2fEPn3AA"
      },
      "outputs": [],
      "source": [
        "geemap.ee_to_shp(fc, filename='europe.shp', selectors=None)"
      ],
      "id": "3mut2fEPn3AA"
    },
    {
      "cell_type": "code",
      "execution_count": null,
      "metadata": {
        "id": "rGPIAt1Jn3AA"
      },
      "outputs": [],
      "source": [
        "geemap.ee_export_vector(fc, filename='europe2.shp')"
      ],
      "id": "rGPIAt1Jn3AA"
    },
    {
      "cell_type": "code",
      "execution_count": null,
      "metadata": {
        "id": "02NL4ooHn3AA"
      },
      "outputs": [],
      "source": [
        "geemap.ee_to_geojson(fc, filename='europe.geojson')"
      ],
      "id": "02NL4ooHn3AA"
    },
    {
      "cell_type": "code",
      "execution_count": null,
      "metadata": {
        "id": "VmAuxfjin3AA"
      },
      "outputs": [],
      "source": [
        "geemap.ee_to_csv(fc, filename='europe.csv')"
      ],
      "id": "VmAuxfjin3AA"
    },
    {
      "cell_type": "code",
      "execution_count": null,
      "metadata": {
        "id": "ttLWA24Mn3AA"
      },
      "outputs": [],
      "source": [
        "gdf = geemap.ee_to_gdf(fc)\n",
        "gdf"
      ],
      "id": "ttLWA24Mn3AA"
    },
    {
      "cell_type": "code",
      "execution_count": null,
      "metadata": {
        "id": "enDoHNEAn3AA"
      },
      "outputs": [],
      "source": [
        "df = geemap.ee_to_df(fc)\n",
        "df"
      ],
      "id": "enDoHNEAn3AA"
    },
    {
      "cell_type": "markdown",
      "metadata": {
        "id": "_s2-8aKQn3AB"
      },
      "source": [
        "### To Google Drive"
      ],
      "id": "_s2-8aKQn3AB"
    },
    {
      "cell_type": "code",
      "execution_count": null,
      "metadata": {
        "id": "ns0X8zI8n3AB"
      },
      "outputs": [],
      "source": [
        "geemap.ee_export_vector_to_drive(\n",
        "    fc, description=\"europe\", fileFormat='SHP', folder=\"export\"\n",
        ")"
      ],
      "id": "ns0X8zI8n3AB"
    },
    {
      "cell_type": "markdown",
      "metadata": {
        "id": "uisufevyn3AB"
      },
      "source": [
        "### To Asset"
      ],
      "id": "uisufevyn3AB"
    },
    {
      "cell_type": "code",
      "execution_count": null,
      "metadata": {
        "id": "lq9rFq2ln3AB"
      },
      "outputs": [],
      "source": [
        "geemap.ee_export_vector_to_asset(fc, description='Exporting Europe', assetId='europe')"
      ],
      "id": "lq9rFq2ln3AB"
    },
    {
      "cell_type": "markdown",
      "metadata": {
        "id": "_Y3wDtYKn3AB"
      },
      "source": [
        "## Exporting maps"
      ],
      "id": "_Y3wDtYKn3AB"
    },
    {
      "cell_type": "code",
      "execution_count": null,
      "metadata": {
        "id": "JmyH6ARRn3AB"
      },
      "outputs": [],
      "source": [
        "Map = geemap.Map()\n",
        "image = ee.Image('USGS/SRTMGL1_003')\n",
        "vis_params = {\n",
        "    'min': 0,\n",
        "    'max': 4000,\n",
        "    'palette': ['006633', 'E5FFCC', '662A00', 'D8D8D8', 'F5F5F5'],\n",
        "}\n",
        "Map.addLayer(image, vis_params, 'SRTM DEM', True)\n",
        "Map"
      ],
      "id": "JmyH6ARRn3AB"
    },
    {
      "cell_type": "code",
      "execution_count": null,
      "metadata": {
        "id": "qtd7r2u1n3AC"
      },
      "outputs": [],
      "source": [
        "Map.to_html(\n",
        "    filename=\"mymap.html\", title=\"Earth Engine Map\", width='100%', height='800px'\n",
        ")"
      ],
      "id": "qtd7r2u1n3AC"
    },
    {
      "cell_type": "markdown",
      "metadata": {
        "id": "rA6k2NShn3AC"
      },
      "source": [
        "## Using the high-volume endpoint"
      ],
      "id": "rA6k2NShn3AC"
    },
    {
      "cell_type": "code",
      "execution_count": null,
      "metadata": {
        "id": "nTjtsY2Zn3AC"
      },
      "outputs": [],
      "source": [
        "import ee\n",
        "import geemap\n",
        "import logging\n",
        "import multiprocessing\n",
        "import os\n",
        "import requests\n",
        "import shutil\n",
        "from retry import retry"
      ],
      "id": "nTjtsY2Zn3AC"
    },
    {
      "cell_type": "code",
      "execution_count": null,
      "metadata": {
        "id": "oUHJMtk2n3AC"
      },
      "outputs": [],
      "source": [
        "ee.Initialize(opt_url='https://earthengine-highvolume.googleapis.com')"
      ],
      "id": "oUHJMtk2n3AC"
    },
    {
      "cell_type": "code",
      "execution_count": null,
      "metadata": {
        "id": "VEQE2Wzsn3AC"
      },
      "outputs": [],
      "source": [
        "region = Map.user_roi\n",
        "\n",
        "if region is None:\n",
        "    region = ee.Geometry.Polygon(\n",
        "        [\n",
        "            [\n",
        "                [-122.513695, 37.707998],\n",
        "                [-122.513695, 37.804359],\n",
        "                [-122.371902, 37.804359],\n",
        "                [-122.371902, 37.707998],\n",
        "                [-122.513695, 37.707998],\n",
        "            ]\n",
        "        ],\n",
        "        None,\n",
        "        False,\n",
        "    )"
      ],
      "id": "VEQE2Wzsn3AC"
    },
    {
      "cell_type": "code",
      "execution_count": null,
      "metadata": {
        "id": "zvbAYhEPn3AC"
      },
      "outputs": [],
      "source": [
        "image = (\n",
        "    ee.ImageCollection('USDA/NAIP/DOQQ')\n",
        "    .filterBounds(region)\n",
        "    .filterDate('2020', '2021')\n",
        "    .mosaic()\n",
        "    .clip(region)\n",
        "    .select('N', 'R', 'G')\n",
        ")"
      ],
      "id": "zvbAYhEPn3AC"
    },
    {
      "cell_type": "code",
      "execution_count": null,
      "metadata": {
        "id": "nm7dKciMn3AC"
      },
      "outputs": [],
      "source": [
        "Map = geemap.Map()\n",
        "Map.addLayer(image, {}, \"Image\")\n",
        "Map.addLayer(region, {}, \"ROI\", False)\n",
        "Map.centerObject(region, 12)\n",
        "Map"
      ],
      "id": "nm7dKciMn3AC"
    },
    {
      "cell_type": "code",
      "execution_count": null,
      "metadata": {
        "id": "4YzJYLI2n3AD"
      },
      "outputs": [],
      "source": [
        "out_dir = os.path.expanduser('~/Downloads/')\n",
        "params = {\n",
        "    'count': 1000,  # How many image chips to export\n",
        "    'buffer': 127,  # The buffer distance (m) around each point\n",
        "    'scale': 100,  # The scale to do stratified sampling\n",
        "    'seed': 1,  # A randomization seed to use for subsampling.\n",
        "    'dimensions': '256x256',  # The dimension of each image chip\n",
        "    'format': \"png\",  # The output image format, can be png, jpg, ZIPPED_GEO_TIFF, GEO_TIFF, NPY\n",
        "    'prefix': 'tile_',  # The filename prefix\n",
        "    'processes': 25,  # How many processes to used for parallel processing\n",
        "    'out_dir': out_dir,  # The output directory. Default to the current working directly\n",
        "}"
      ],
      "id": "4YzJYLI2n3AD"
    },
    {
      "cell_type": "code",
      "execution_count": null,
      "metadata": {
        "id": "wwIc3dgen3AD"
      },
      "outputs": [],
      "source": [
        "def getRequests():\n",
        "    img = ee.Image(1).rename(\"Class\").addBands(image)\n",
        "    points = img.stratifiedSample(\n",
        "        numPoints=params['count'],\n",
        "        region=region,\n",
        "        scale=params['scale'],\n",
        "        seed=params['seed'],\n",
        "        geometries=True,\n",
        "    )\n",
        "    Map.data = points\n",
        "    return points.aggregate_array('.geo').getInfo()"
      ],
      "id": "wwIc3dgen3AD"
    },
    {
      "cell_type": "code",
      "execution_count": null,
      "metadata": {
        "id": "wEMy8U_pn3AD"
      },
      "outputs": [],
      "source": [
        "@retry(tries=10, delay=1, backoff=2)\n",
        "def getResult(index, point):\n",
        "    point = ee.Geometry.Point(point['coordinates'])\n",
        "    region = point.buffer(params['buffer']).bounds()\n",
        "\n",
        "    if params['format'] in ['png', 'jpg']:\n",
        "        url = image.getThumbURL(\n",
        "            {\n",
        "                'region': region,\n",
        "                'dimensions': params['dimensions'],\n",
        "                'format': params['format'],\n",
        "            }\n",
        "        )\n",
        "    else:\n",
        "        url = image.getDownloadURL(\n",
        "            {\n",
        "                'region': region,\n",
        "                'dimensions': params['dimensions'],\n",
        "                'format': params['format'],\n",
        "            }\n",
        "        )\n",
        "\n",
        "    if params['format'] == \"GEO_TIFF\":\n",
        "        ext = 'tif'\n",
        "    else:\n",
        "        ext = params['format']\n",
        "\n",
        "    r = requests.get(url, stream=True)\n",
        "    if r.status_code != 200:\n",
        "        r.raise_for_status()\n",
        "\n",
        "    out_dir = os.path.abspath(params['out_dir'])\n",
        "    basename = str(index).zfill(len(str(params['count'])))\n",
        "    filename = f\"{out_dir}/{params['prefix']}{basename}.{ext}\"\n",
        "    with open(filename, 'wb') as out_file:\n",
        "        shutil.copyfileobj(r.raw, out_file)\n",
        "    print(\"Done: \", basename)"
      ],
      "id": "wEMy8U_pn3AD"
    },
    {
      "cell_type": "code",
      "execution_count": null,
      "metadata": {
        "id": "ynVxC8E8n3AD"
      },
      "outputs": [],
      "source": [
        "%%time\n",
        "logging.basicConfig()\n",
        "items = getRequests()\n",
        "\n",
        "pool = multiprocessing.Pool(params['processes'])\n",
        "pool.starmap(getResult, enumerate(items))\n",
        "\n",
        "pool.close()"
      ],
      "id": "ynVxC8E8n3AD"
    },
    {
      "cell_type": "code",
      "execution_count": null,
      "metadata": {
        "id": "c2Aqd9NTn3AD"
      },
      "outputs": [],
      "source": [
        "Map.addLayer(Map.data, {}, \"Sample points\")\n",
        "Map"
      ],
      "id": "c2Aqd9NTn3AD"
    },
    {
      "cell_type": "code",
      "execution_count": null,
      "metadata": {
        "id": "zi2OpVlrn3AD"
      },
      "outputs": [],
      "source": [
        "geemap.ee_to_shp(Map.data, filename='points.shp')"
      ],
      "id": "zi2OpVlrn3AD"
    },
    {
      "cell_type": "markdown",
      "metadata": {
        "id": "updK5SWSn3AE"
      },
      "source": [
        "## Summary"
      ],
      "id": "updK5SWSn3AE"
    }
  ],
  "metadata": {
    "kernelspec": {
      "display_name": "Python 3",
      "language": "python",
      "name": "python3"
    },
    "colab": {
      "provenance": []
    }
  },
  "nbformat": 4,
  "nbformat_minor": 5
}